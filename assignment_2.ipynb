{
  "nbformat": 4,
  "nbformat_minor": 0,
  "metadata": {
    "colab": {
      "provenance": [],
      "authorship_tag": "ABX9TyP5Z743M+IUcVzzeC7SYZ7R",
      "include_colab_link": true
    },
    "kernelspec": {
      "name": "python3",
      "display_name": "Python 3"
    },
    "language_info": {
      "name": "python"
    }
  },
  "cells": [
    {
      "cell_type": "markdown",
      "metadata": {
        "id": "view-in-github",
        "colab_type": "text"
      },
      "source": [
        "<a href=\"https://colab.research.google.com/github/shreyan-77/Assignments/blob/main/assignment_2.ipynb\" target=\"_parent\"><img src=\"https://colab.research.google.com/assets/colab-badge.svg\" alt=\"Open In Colab\"/></a>"
      ]
    },
    {
      "cell_type": "code",
      "execution_count": 1,
      "metadata": {
        "colab": {
          "base_uri": "https://localhost:8080/"
        },
        "id": "WOuQjDuJhAkV",
        "outputId": "498aeef1-970a-46a5-ce68-84e3ddf98d59"
      },
      "outputs": [
        {
          "output_type": "stream",
          "name": "stdout",
          "text": [
            "Enter a positive integer: 8\n",
            "The sum of all even numbers between 1 and 8 is: 20\n"
          ]
        }
      ],
      "source": [
        "def sum_of_even_numbers(n):\n",
        "    if n < 1:\n",
        "        return 0  # If n is less than 1, return 0 as there are no even numbers\n",
        "\n",
        "    # Calculate the sum of even numbers\n",
        "    even_sum = sum(i for i in range(2, n + 1, 2))\n",
        "    return even_sum\n",
        "\n",
        "# Get user input\n",
        "try:\n",
        "    n = int(input(\"Enter a positive integer: \"))\n",
        "    if n < 1:\n",
        "        print(\"Please enter a positive integer greater than or equal to 1.\")\n",
        "    else:\n",
        "        result = sum_of_even_numbers(n)\n",
        "        print(f\"The sum of all even numbers between 1 and {n} is: {result}\")\n",
        "except ValueError:\n",
        "    print(\"Invalid input! Please enter a valid positive integer.\")\n"
      ]
    }
  ]
}