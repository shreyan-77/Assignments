{
  "nbformat": 4,
  "nbformat_minor": 0,
  "metadata": {
    "colab": {
      "provenance": [],
      "authorship_tag": "ABX9TyNLvm++VwpzeNn+QbRUGmQ9",
      "include_colab_link": true
    },
    "kernelspec": {
      "name": "python3",
      "display_name": "Python 3"
    },
    "language_info": {
      "name": "python"
    }
  },
  "cells": [
    {
      "cell_type": "markdown",
      "metadata": {
        "id": "view-in-github",
        "colab_type": "text"
      },
      "source": [
        "<a href=\"https://colab.research.google.com/github/shreyan-77/Assignments/blob/main/day_2.ipynb\" target=\"_parent\"><img src=\"https://colab.research.google.com/assets/colab-badge.svg\" alt=\"Open In Colab\"/></a>"
      ]
    },
    {
      "cell_type": "code",
      "execution_count": 1,
      "metadata": {
        "colab": {
          "base_uri": "https://localhost:8080/"
        },
        "id": "vYdK5b1kjsMY",
        "outputId": "0914ce3d-4ca7-446b-820f-c5c1f36c9601"
      },
      "outputs": [
        {
          "output_type": "stream",
          "name": "stdout",
          "text": [
            "First element of the list: 10\n",
            "Last element of the list: 50\n",
            "Elements from index 1 to 3: [20, 30, 40]\n",
            "Second element of the tuple: banana\n",
            "Elements from index 2 to 4: ('cherry', 'date', 'elderberry')\n",
            "Value of 'name': John\n",
            "Value of 'city': New York\n",
            "Value of 'hobby': Reading\n"
          ]
        }
      ],
      "source": [
        "my_list = [10, 20, 30, 40, 50]\n",
        "\n",
        "# Accessing elements by index\n",
        "print(\"First element of the list:\", my_list[0])   # Accessing the first element\n",
        "print(\"Last element of the list:\", my_list[-1])  # Accessing the last element\n",
        "print(\"Elements from index 1 to 3:\", my_list[1:4])  # Slicing (from index 1 to 3)\n",
        "\n",
        "#tuple\n",
        "# Creating a tuple\n",
        "my_tuple = ('apple', 'banana', 'cherry', 'date', 'elderberry')\n",
        "\n",
        "# Accessing elements by index\n",
        "print(\"Second element of the tuple:\", my_tuple[1])   # Accessing the second element\n",
        "print(\"Elements from index 2 to 4:\", my_tuple[2:5])  # Slicing (from index 2 to 4)\n",
        "\n",
        "#dictionary\n",
        "# Creating a dictionary\n",
        "my_dict = {\n",
        "    'name': 'John',\n",
        "    'age': 30,\n",
        "    'city': 'New York',\n",
        "    'job': 'Engineer',\n",
        "    'hobby': 'Reading'\n",
        "}\n",
        "\n",
        "# Accessing elements by key\n",
        "print(\"Value of 'name':\", my_dict['name'])    # Accessing value by key\n",
        "print(\"Value of 'city':\", my_dict['city'])    # Accessing another key's value\n",
        "\n",
        "# Using the `get` method\n",
        "print(\"Value of 'hobby':\", my_dict.get('hobby'))  # Accessing with `.get()`"
      ]
    }
  ]
}